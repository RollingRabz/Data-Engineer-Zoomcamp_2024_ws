{
 "cells": [
  {
   "cell_type": "code",
   "execution_count": 1,
   "id": "e39c8a89",
   "metadata": {},
   "outputs": [],
   "source": [
    "import pyspark\n",
    "from pyspark.sql import SparkSession\n",
    "\n",
    "spark = SparkSession.builder \\\n",
    "    .master(\"local[*]\") \\\n",
    "    .appName('test') \\\n",
    "    .getOrCreate()"
   ]
  },
  {
   "cell_type": "code",
   "execution_count": 2,
   "id": "ff52bfe8",
   "metadata": {},
   "outputs": [],
   "source": [
    "df_green = spark.read.parquet('data/pq/green/*/*')"
   ]
  },
  {
   "cell_type": "code",
   "execution_count": 5,
   "id": "dcda09f9",
   "metadata": {},
   "outputs": [],
   "source": [
    "df_yellow = spark.read.parquet('data/pq/yellow/*/*')"
   ]
  },
  {
   "cell_type": "code",
   "execution_count": 7,
   "id": "ad0f1de4",
   "metadata": {},
   "outputs": [
    {
     "data": {
      "text/plain": [
       "['VendorID',\n",
       " 'lpep_pickup_datetime',\n",
       " 'lpep_dropoff_datetime',\n",
       " 'store_and_fwd_flag',\n",
       " 'RatecodeID',\n",
       " 'PULocationID',\n",
       " 'DOLocationID',\n",
       " 'passenger_count',\n",
       " 'trip_distance',\n",
       " 'fare_amount',\n",
       " 'extra',\n",
       " 'mta_tax',\n",
       " 'tip_amount',\n",
       " 'tolls_amount',\n",
       " 'ehail_fee',\n",
       " 'improvement_surcharge',\n",
       " 'total_amount',\n",
       " 'payment_type',\n",
       " 'trip_type',\n",
       " 'congestion_surcharge']"
      ]
     },
     "execution_count": 7,
     "metadata": {},
     "output_type": "execute_result"
    }
   ],
   "source": [
    "df_green.columns"
   ]
  },
  {
   "cell_type": "code",
   "execution_count": 8,
   "id": "c8a23271",
   "metadata": {},
   "outputs": [
    {
     "data": {
      "text/plain": [
       "['VendorID',\n",
       " 'tpep_pickup_datetime',\n",
       " 'tpep_dropoff_datetime',\n",
       " 'passenger_count',\n",
       " 'trip_distance',\n",
       " 'RatecodeID',\n",
       " 'store_and_fwd_flag',\n",
       " 'PULocationID',\n",
       " 'DOLocationID',\n",
       " 'payment_type',\n",
       " 'fare_amount',\n",
       " 'extra',\n",
       " 'mta_tax',\n",
       " 'tip_amount',\n",
       " 'tolls_amount',\n",
       " 'improvement_surcharge',\n",
       " 'total_amount',\n",
       " 'congestion_surcharge']"
      ]
     },
     "execution_count": 8,
     "metadata": {},
     "output_type": "execute_result"
    }
   ],
   "source": [
    "df_yellow.columns"
   ]
  },
  {
   "cell_type": "code",
   "execution_count": 9,
   "id": "078cc095",
   "metadata": {},
   "outputs": [],
   "source": [
    "df_green = df_green \\\n",
    "    .withColumnRenamed('lpep_pickup_datetime', 'pickup_datetime') \\\n",
    "    .withColumnRenamed('lpep_dropoff_datetime', 'dropoff_datetime')"
   ]
  },
  {
   "cell_type": "code",
   "execution_count": 10,
   "id": "6a79e00c",
   "metadata": {},
   "outputs": [],
   "source": [
    "df_yellow = df_yellow \\\n",
    "    .withColumnRenamed('tpep_pickup_datetime', 'pickup_datetime') \\\n",
    "    .withColumnRenamed('tpep_dropoff_datetime', 'dropoff_datetime')"
   ]
  },
  {
   "cell_type": "code",
   "execution_count": 11,
   "id": "3876a0bc",
   "metadata": {},
   "outputs": [],
   "source": [
    "# preserve order\n",
    "common_colums = []\n",
    "\n",
    "yellow_columns = set(df_yellow.columns)\n",
    "\n",
    "for col in df_green.columns:\n",
    "    if col in yellow_columns:\n",
    "        common_colums.append(col)"
   ]
  },
  {
   "cell_type": "code",
   "execution_count": 13,
   "id": "77c0c2fa",
   "metadata": {},
   "outputs": [],
   "source": [
    "from pyspark.sql import functions as F"
   ]
  },
  {
   "cell_type": "code",
   "execution_count": 14,
   "id": "269fb904",
   "metadata": {},
   "outputs": [],
   "source": [
    "# add new column name service type and give green as value\n",
    "df_green_sel = df_green \\\n",
    "    .select(common_colums) \\\n",
    "    .withColumn('service_type', F.lit('green'))"
   ]
  },
  {
   "cell_type": "code",
   "execution_count": 15,
   "id": "32863f2e",
   "metadata": {},
   "outputs": [],
   "source": [
    "df_yellow_sel = df_yellow \\\n",
    "    .select(common_colums) \\\n",
    "    .withColumn('service_type', F.lit('yellow'))"
   ]
  },
  {
   "cell_type": "code",
   "execution_count": 16,
   "id": "092a6fb2",
   "metadata": {},
   "outputs": [],
   "source": [
    "#combine 2 data\n",
    "df_trips_data = df_green_sel.unionAll(df_yellow_sel)"
   ]
  },
  {
   "cell_type": "code",
   "execution_count": 17,
   "id": "4249ac81",
   "metadata": {},
   "outputs": [
    {
     "name": "stdout",
     "output_type": "stream",
     "text": [
      "+------------+--------+\n",
      "|service_type|   count|\n",
      "+------------+--------+\n",
      "|       green| 2304517|\n",
      "|      yellow|39649199|\n",
      "+------------+--------+\n",
      "\n"
     ]
    }
   ],
   "source": [
    "df_trips_data.groupBy('service_type').count().show()"
   ]
  },
  {
   "cell_type": "code",
   "execution_count": 18,
   "id": "6df28cf3",
   "metadata": {},
   "outputs": [
    {
     "data": {
      "text/plain": [
       "['VendorID',\n",
       " 'pickup_datetime',\n",
       " 'dropoff_datetime',\n",
       " 'store_and_fwd_flag',\n",
       " 'RatecodeID',\n",
       " 'PULocationID',\n",
       " 'DOLocationID',\n",
       " 'passenger_count',\n",
       " 'trip_distance',\n",
       " 'fare_amount',\n",
       " 'extra',\n",
       " 'mta_tax',\n",
       " 'tip_amount',\n",
       " 'tolls_amount',\n",
       " 'improvement_surcharge',\n",
       " 'total_amount',\n",
       " 'payment_type',\n",
       " 'congestion_surcharge',\n",
       " 'service_type']"
      ]
     },
     "execution_count": 18,
     "metadata": {},
     "output_type": "execute_result"
    }
   ],
   "source": [
    "df_trips_data.columns"
   ]
  },
  {
   "cell_type": "code",
   "execution_count": 19,
   "id": "92e9f2ee",
   "metadata": {},
   "outputs": [
    {
     "name": "stderr",
     "output_type": "stream",
     "text": [
      "C:\\tools\\spark-3.3.2-bin-hadoop3\\python\\pyspark\\sql\\dataframe.py:229: FutureWarning: Deprecated in 2.0, use createOrReplaceTempView instead.\n",
      "  warnings.warn(\"Deprecated in 2.0, use createOrReplaceTempView instead.\", FutureWarning)\n"
     ]
    }
   ],
   "source": [
    "#register df to table which enable sql query table name is trips_data\n",
    "df_trips_data.registerTempTable('trips_data')"
   ]
  },
  {
   "cell_type": "code",
   "execution_count": 20,
   "id": "b80bd9fb",
   "metadata": {},
   "outputs": [
    {
     "name": "stdout",
     "output_type": "stream",
     "text": [
      "+------------+--------+\n",
      "|service_type|count(1)|\n",
      "+------------+--------+\n",
      "|       green| 2304517|\n",
      "|      yellow|39649199|\n",
      "+------------+--------+\n",
      "\n"
     ]
    }
   ],
   "source": [
    "spark.sql(\"\"\"\n",
    "SELECT\n",
    "    service_type,\n",
    "    count(1)\n",
    "FROM\n",
    "    trips_data\n",
    "GROUP BY \n",
    "    service_type\n",
    "\"\"\").show()"
   ]
  },
  {
   "cell_type": "code",
   "execution_count": 21,
   "id": "d1ce9b99",
   "metadata": {},
   "outputs": [],
   "source": [
    "#try use query in module 4 here\n",
    "df_result = spark.sql(\"\"\"\n",
    "SELECT \n",
    "    -- Reveneue grouping \n",
    "    PULocationID AS revenue_zone,\n",
    "    date_trunc('month', pickup_datetime) AS revenue_month, \n",
    "    service_type, \n",
    "\n",
    "    -- Revenue calculation \n",
    "    SUM(fare_amount) AS revenue_monthly_fare,\n",
    "    SUM(extra) AS revenue_monthly_extra,\n",
    "    SUM(mta_tax) AS revenue_monthly_mta_tax,\n",
    "    SUM(tip_amount) AS revenue_monthly_tip_amount,\n",
    "    SUM(tolls_amount) AS revenue_monthly_tolls_amount,\n",
    "    SUM(improvement_surcharge) AS revenue_monthly_improvement_surcharge,\n",
    "    SUM(total_amount) AS revenue_monthly_total_amount,\n",
    "    SUM(congestion_surcharge) AS revenue_monthly_congestion_surcharge,\n",
    "\n",
    "    -- Additional calculations\n",
    "    AVG(passenger_count) AS avg_montly_passenger_count,\n",
    "    AVG(trip_distance) AS avg_montly_trip_distance\n",
    "FROM\n",
    "    trips_data\n",
    "GROUP BY\n",
    "    1, 2, 3\n",
    "\"\"\")"
   ]
  },
  {
   "cell_type": "code",
   "execution_count": 22,
   "id": "8a8d9bbe",
   "metadata": {},
   "outputs": [
    {
     "name": "stdout",
     "output_type": "stream",
     "text": [
      "+------------+-------------------+------------+--------------------+---------------------+-----------------------+--------------------------+----------------------------+-------------------------------------+----------------------------+------------------------------------+--------------------------+------------------------+\n",
      "|revenue_zone|      revenue_month|service_type|revenue_monthly_fare|revenue_monthly_extra|revenue_monthly_mta_tax|revenue_monthly_tip_amount|revenue_monthly_tolls_amount|revenue_monthly_improvement_surcharge|revenue_monthly_total_amount|revenue_monthly_congestion_surcharge|avg_montly_passenger_count|avg_montly_trip_distance|\n",
      "+------------+-------------------+------------+--------------------+---------------------+-----------------------+--------------------------+----------------------------+-------------------------------------+----------------------------+------------------------------------+--------------------------+------------------------+\n",
      "|          33|2020-02-01 00:00:00|       green|  143526.48999999915|              5734.75|                 4636.0|         17553.62999999993|          507.61000000000024|                    2979.900000000346|          180998.42999999292|                              6393.5|        1.2772073921971252|      3.2689649681528645|\n",
      "|          39|2020-02-01 00:00:00|       green|   45098.69000000011|              3701.75|                  263.5|                     22.47|          1062.3999999999996|                   417.00000000001006|           50568.56000000017|                                2.75|        1.1235059760956174|       6.542627877237852|\n",
      "|         155|2020-03-01 00:00:00|       green|   8962.960000000008|                 27.5|                   46.5|         6.779999999999999|          244.80000000000013|                    111.2999999999993|           9472.889999999994|                                 0.0|        1.2580645161290323|       6.667921052631582|\n",
      "|          97|2020-03-01 00:00:00|       green|    86724.5699999999|               2432.5|                 3153.0|         9502.169999999995|          275.06000000000006|                     2095.79999999981|          105568.40000000683|                              1338.0|        1.1946930444339772|      2.7142550469149858|\n",
      "|         206|2020-03-01 00:00:00|       green|  393.16999999999996|                  3.5|                    3.5|                      7.96|           72.46000000000001|                    3.599999999999999|           484.1900000000001|                                 0.0|        3.2857142857142856|       9.602500000000001|\n",
      "|         135|2020-10-01 00:00:00|       green|   4685.669999999998|                 14.5|                   14.0|                    396.69|          210.88000000000005|                   48.299999999999976|                     5371.99|                                 5.5|        1.0263157894736843|       6.598271604938272|\n",
      "|          53|2020-10-01 00:00:00|       green|             1129.98|                  1.0|                    2.5|                     85.15|                       24.48|                   10.499999999999996|          1253.6100000000001|                                 0.0|                       1.0|       7.953999999999998|\n",
      "|         265|2020-02-01 00:00:00|       green|             12431.6|               359.09|                  118.0|        353.03000000000003|           461.3600000000002|                    98.69999999999942|          13827.279999999964|                                2.75|        1.5217391304347827|       8.645274725274726|\n",
      "|         126|2020-02-01 00:00:00|       green|   7159.769999999995|                583.0|                   80.0|                     29.73|           234.4400000000001|                    97.49999999999943|           8191.340000000009|                                 0.0|        1.1764705882352942|       4.280221606648201|\n",
      "|         131|2020-10-01 00:00:00|       green|   5536.840000000001|                  3.0|                    5.5|                     487.7|          146.52000000000004|                    57.59999999999994|           6241.859999999999|                                2.75|        1.0555555555555556|       6.149114583333333|\n",
      "|         221|2020-01-01 00:00:00|       green|               382.5|                  1.0|                    3.0|                       0.0|           85.67999999999999|                                  2.1|                      474.28|                                 0.0|        1.2857142857142858|      12.874285714285715|\n",
      "|         112|2020-02-01 00:00:00|       green|   21246.88000000001|              1030.51|                  681.0|         2607.840000000003|           347.5600000000002|                   435.60000000001077|           27034.68999999963|                               783.5|        1.2501786990707648|      3.4512254570074457|\n",
      "|         160|2020-02-01 00:00:00|       green|  5285.6599999999935|               434.25|                   42.0|                     22.86|          136.93000000000004|                    63.59999999999975|           5985.300000000001|                                2.75|        1.2467532467532467|       4.088018018018017|\n",
      "|         135|2020-03-01 00:00:00|       green|   4484.960000000002|                32.25|                   43.5|         92.17999999999998|          112.96000000000002|                     68.6999999999997|           4892.400000000009|                                8.25|        1.2345679012345678|      5.1851965065502155|\n",
      "|          35|2020-01-01 00:00:00|       green|   51364.22999999995|              3498.25|                  422.0|                     33.81|          1007.9800000000002|                    538.5000000000097|           56871.42000000011|                                 5.5|        1.1042183622828785|       5.437524084778418|\n",
      "|         175|2020-02-01 00:00:00|       green|  3626.6899999999937|               268.75|                   13.5|                      2.82|          122.40000000000003|                    34.20000000000003|          4068.3599999999997|                                 0.0|                       1.1|       6.121779661016945|\n",
      "|          95|2020-03-01 00:00:00|       green|   75784.67000000001|              2378.75|                 2877.0|         6567.289999999992|           1171.179999999998|                    1875.599999999807|            91141.7900000062|                              450.75|        1.3517110266159695|      2.8941223193010326|\n",
      "|          58|2020-03-01 00:00:00|       green|  380.40999999999997|                 3.75|                    4.0|                     10.86|                        6.12|                    5.699999999999998|                      410.84|                                 0.0|                       1.0|      6.1747826086956525|\n",
      "|         162|2020-10-01 00:00:00|       green|   906.0500000000001|                  0.0|                    0.0|                      66.0|           51.25000000000001|                    7.499999999999998|          1030.8000000000002|                                null|                      null|                  8.7976|\n",
      "|          76|2020-02-01 00:00:00|       green|  60807.779999999744|              5400.75|                  391.0|        198.00000000000006|          1409.0299999999943|                    666.8999999999902|           68901.86000000082|                                2.75|        1.2119565217391304|       5.530049792531122|\n",
      "+------------+-------------------+------------+--------------------+---------------------+-----------------------+--------------------------+----------------------------+-------------------------------------+----------------------------+------------------------------------+--------------------------+------------------------+\n",
      "only showing top 20 rows\n",
      "\n"
     ]
    }
   ],
   "source": [
    "df_result.show()"
   ]
  },
  {
   "cell_type": "code",
   "execution_count": 28,
   "id": "803ad925",
   "metadata": {},
   "outputs": [],
   "source": [
    "# coalesce = reduce number of partition 1 = 1file\n",
    "df_result.coalesce(1).write.parquet('data/report/revenue/', mode='overwrite')"
   ]
  }
 ],
 "metadata": {
  "kernelspec": {
   "display_name": "Python 3 (ipykernel)",
   "language": "python",
   "name": "python3"
  },
  "language_info": {
   "codemirror_mode": {
    "name": "ipython",
    "version": 3
   },
   "file_extension": ".py",
   "mimetype": "text/x-python",
   "name": "python",
   "nbconvert_exporter": "python",
   "pygments_lexer": "ipython3",
   "version": "3.9.13"
  }
 },
 "nbformat": 4,
 "nbformat_minor": 5
}
