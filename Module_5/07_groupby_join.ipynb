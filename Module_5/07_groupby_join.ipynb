{
 "cells": [
  {
   "cell_type": "code",
   "execution_count": 1,
   "id": "2cb804c7",
   "metadata": {},
   "outputs": [],
   "source": [
    "import pyspark\n",
    "from pyspark.sql import SparkSession\n",
    "\n",
    "spark = SparkSession.builder \\\n",
    "    .master(\"local[*]\") \\\n",
    "    .appName('test') \\\n",
    "    .getOrCreate()"
   ]
  },
  {
   "cell_type": "code",
   "execution_count": null,
   "id": "369b3b43",
   "metadata": {},
   "outputs": [],
   "source": [
    "###Group by"
   ]
  },
  {
   "cell_type": "code",
   "execution_count": 2,
   "id": "6947aa35",
   "metadata": {},
   "outputs": [],
   "source": [
    "df_green = spark.read.parquet('data/pq/green/*/*')"
   ]
  },
  {
   "cell_type": "code",
   "execution_count": 3,
   "id": "6bb6967f",
   "metadata": {},
   "outputs": [
    {
     "name": "stderr",
     "output_type": "stream",
     "text": [
      "C:\\tools\\spark-3.3.2-bin-hadoop3\\python\\pyspark\\sql\\dataframe.py:229: FutureWarning: Deprecated in 2.0, use createOrReplaceTempView instead.\n",
      "  warnings.warn(\"Deprecated in 2.0, use createOrReplaceTempView instead.\", FutureWarning)\n"
     ]
    }
   ],
   "source": [
    "df_green.registerTempTable('green')"
   ]
  },
  {
   "cell_type": "code",
   "execution_count": 4,
   "id": "e300352d",
   "metadata": {},
   "outputs": [],
   "source": [
    "df_green_revenue = spark.sql(\"\"\"\n",
    "SELECT \n",
    "    date_trunc('hour', lpep_pickup_datetime) AS hour, \n",
    "    PULocationID AS zone,\n",
    "\n",
    "    SUM(total_amount) AS amount,\n",
    "    COUNT(1) AS number_records\n",
    "FROM\n",
    "    green\n",
    "WHERE\n",
    "    lpep_pickup_datetime >= '2020-01-01 00:00:00'\n",
    "GROUP BY\n",
    "    1, 2\n",
    "\"\"\")"
   ]
  },
  {
   "cell_type": "code",
   "execution_count": 5,
   "id": "90bd49b2",
   "metadata": {},
   "outputs": [
    {
     "name": "stdout",
     "output_type": "stream",
     "text": [
      "+-------------------+----+------------------+--------------+\n",
      "|               hour|zone|            amount|number_records|\n",
      "+-------------------+----+------------------+--------------+\n",
      "|2020-01-17 11:00:00|  41| 513.6600000000003|            46|\n",
      "|2020-01-30 13:00:00|  75| 1330.859999999999|            76|\n",
      "|2020-01-27 20:00:00| 244|398.00000000000006|            16|\n",
      "|2020-01-16 10:00:00|  74|1021.2199999999987|            80|\n",
      "|2020-01-24 17:00:00| 260| 308.0600000000001|            27|\n",
      "|2020-01-03 01:00:00|  80|             80.61|             6|\n",
      "|2020-01-08 14:00:00|  33| 687.7900000000001|            34|\n",
      "|2020-01-07 19:00:00|  66|324.78000000000003|            19|\n",
      "|2020-01-14 12:00:00|  21|             90.22|             2|\n",
      "|2020-01-17 17:00:00|  41| 845.2499999999994|            66|\n",
      "|2020-01-02 09:00:00|   7|367.50000000000017|            30|\n",
      "|2020-01-15 20:00:00| 145|             39.41|             2|\n",
      "|2020-01-06 19:00:00|  92| 293.2000000000001|            18|\n",
      "|2020-01-24 11:00:00| 129| 360.1600000000001|            20|\n",
      "|2020-01-10 15:00:00| 166| 697.8199999999996|            55|\n",
      "|2020-01-11 15:00:00| 241|            101.31|             4|\n",
      "|2020-01-14 01:00:00|  92|100.19999999999999|             9|\n",
      "|2020-01-02 12:00:00|   7| 352.7600000000001|            23|\n",
      "|2020-01-10 11:00:00|  95|488.52000000000015|            30|\n",
      "|2020-01-30 04:00:00| 117|             54.59|             3|\n",
      "+-------------------+----+------------------+--------------+\n",
      "only showing top 20 rows\n",
      "\n"
     ]
    }
   ],
   "source": [
    "df_green_revenue.show()"
   ]
  },
  {
   "cell_type": "code",
   "execution_count": 11,
   "id": "21731bcb",
   "metadata": {},
   "outputs": [],
   "source": [
    "#the more partition the more cost of reshuffling\n",
    "df_green_revenue \\\n",
    "    .repartition(20) \\\n",
    "    .write.parquet('data/report/revenue/green', mode='overwrite')"
   ]
  },
  {
   "cell_type": "code",
   "execution_count": 12,
   "id": "13b82729",
   "metadata": {},
   "outputs": [],
   "source": [
    "df_yellow = spark.read.parquet('data/pq/yellow/*/*')\n",
    "df_yellow.registerTempTable('yellow')"
   ]
  },
  {
   "cell_type": "code",
   "execution_count": 13,
   "id": "9f882445",
   "metadata": {},
   "outputs": [],
   "source": [
    "df_yellow_revenue = spark.sql(\"\"\"\n",
    "SELECT \n",
    "    date_trunc('hour', tpep_pickup_datetime) AS hour, \n",
    "    PULocationID AS zone,\n",
    "\n",
    "    SUM(total_amount) AS amount,\n",
    "    COUNT(1) AS number_records\n",
    "FROM\n",
    "    yellow\n",
    "WHERE\n",
    "    tpep_pickup_datetime >= '2020-01-01 00:00:00'\n",
    "GROUP BY\n",
    "    1, 2\n",
    "\"\"\")"
   ]
  },
  {
   "cell_type": "code",
   "execution_count": 14,
   "id": "95a4ab0d",
   "metadata": {},
   "outputs": [],
   "source": [
    "df_yellow_revenue \\\n",
    "    .repartition(20) \\\n",
    "    .write.parquet('data/report/revenue/yellow', mode='overwrite')"
   ]
  },
  {
   "cell_type": "code",
   "execution_count": null,
   "id": "d3181c8e",
   "metadata": {},
   "outputs": [],
   "source": [
    "### Join"
   ]
  },
  {
   "cell_type": "code",
   "execution_count": 15,
   "id": "0a2dd3db",
   "metadata": {},
   "outputs": [],
   "source": [
    "#To reduce repeat process we read from pq file we save. Otherwise it will do the query process from the start\n",
    "# In big dataset we will see the big different of resource usage\n",
    "df_green_revenue = spark.read.parquet('data/report/revenue/green')\n",
    "df_yellow_revenue = spark.read.parquet('data/report/revenue/yellow')"
   ]
  },
  {
   "cell_type": "code",
   "execution_count": 16,
   "id": "a9dc8e5e",
   "metadata": {},
   "outputs": [],
   "source": [
    "df_green_revenue_tmp = df_green_revenue \\\n",
    "    .withColumnRenamed('amount', 'green_amount') \\\n",
    "    .withColumnRenamed('number_records', 'green_number_records')\n",
    "\n",
    "df_yellow_revenue_tmp = df_yellow_revenue \\\n",
    "    .withColumnRenamed('amount', 'yellow_amount') \\\n",
    "    .withColumnRenamed('number_records', 'yellow_number_records')"
   ]
  },
  {
   "cell_type": "code",
   "execution_count": 17,
   "id": "4f26f5c2",
   "metadata": {},
   "outputs": [],
   "source": [
    "df_join = df_green_revenue_tmp.join(df_yellow_revenue_tmp, on=['hour', 'zone'], how='outer')"
   ]
  },
  {
   "cell_type": "code",
   "execution_count": 18,
   "id": "bc669ba7",
   "metadata": {},
   "outputs": [],
   "source": [
    "df_join.write.parquet('data/report/revenue/total', mode='overwrite')"
   ]
  },
  {
   "cell_type": "code",
   "execution_count": 19,
   "id": "ca99d749",
   "metadata": {},
   "outputs": [],
   "source": [
    "df_join = spark.read.parquet('data/report/revenue/total')"
   ]
  },
  {
   "cell_type": "code",
   "execution_count": 20,
   "id": "8e4aaf4e",
   "metadata": {},
   "outputs": [
    {
     "data": {
      "text/plain": [
       "DataFrame[hour: timestamp, zone: int, green_amount: double, green_number_records: bigint, yellow_amount: double, yellow_number_records: bigint]"
      ]
     },
     "execution_count": 20,
     "metadata": {},
     "output_type": "execute_result"
    }
   ],
   "source": [
    "df_join"
   ]
  },
  {
   "cell_type": "code",
   "execution_count": 21,
   "id": "f2776b95",
   "metadata": {},
   "outputs": [],
   "source": [
    "df_zones = spark.read.parquet('zones/')"
   ]
  },
  {
   "cell_type": "code",
   "execution_count": 22,
   "id": "dec77f58",
   "metadata": {},
   "outputs": [],
   "source": [
    "df_result = df_join.join(df_zones, df_join.zone == df_zones.LocationID)"
   ]
  },
  {
   "cell_type": "code",
   "execution_count": 23,
   "id": "b3cba2cc",
   "metadata": {},
   "outputs": [],
   "source": [
    "df_result.drop('LocationID', 'zone').write.parquet('tmp/revenue-zones')"
   ]
  },
  {
   "cell_type": "code",
   "execution_count": 24,
   "id": "40c41141",
   "metadata": {},
   "outputs": [
    {
     "name": "stdout",
     "output_type": "stream",
     "text": [
      "+-------------------+----+------------------+--------------------+------------------+---------------------+----------+---------+--------------------+------------+\n",
      "|               hour|zone|      green_amount|green_number_records|     yellow_amount|yellow_number_records|LocationID|  Borough|                Zone|service_zone|\n",
      "+-------------------+----+------------------+--------------------+------------------+---------------------+----------+---------+--------------------+------------+\n",
      "|2020-01-01 00:00:00|  10|              null|                null|             42.41|                    2|        10|   Queens|        Baisley Park|   Boro Zone|\n",
      "|2020-01-01 00:00:00|  14|              null|                null|               8.8|                    1|        14| Brooklyn|           Bay Ridge|   Boro Zone|\n",
      "|2020-01-01 00:00:00|  15|              null|                null|             34.09|                    1|        15|   Queens|Bay Terrace/Fort ...|   Boro Zone|\n",
      "|2020-01-01 00:00:00|  17|195.03000000000003|                   9|220.20999999999998|                    8|        17| Brooklyn|             Bedford|   Boro Zone|\n",
      "|2020-01-01 00:00:00|  24|              87.6|                   3|            754.95|                   45|        24|Manhattan|        Bloomingdale| Yellow Zone|\n",
      "|2020-01-01 00:00:00|  29|              61.3|                   1|              null|                 null|        29| Brooklyn|      Brighton Beach|   Boro Zone|\n",
      "|2020-01-01 00:00:00|  33|            317.27|                  11|            255.56|                    8|        33| Brooklyn|    Brooklyn Heights|   Boro Zone|\n",
      "|2020-01-01 00:00:00|  35|            129.96|                   5|              null|                 null|        35| Brooklyn|         Brownsville|   Boro Zone|\n",
      "|2020-01-01 00:00:00|  41| 1363.959999999999|                  84|1256.5299999999997|                   80|        41|Manhattan|      Central Harlem|   Boro Zone|\n",
      "|2020-01-01 00:00:00|  47|              13.3|                   1|               8.3|                    1|        47|    Bronx|  Claremont/Bathgate|   Boro Zone|\n",
      "|2020-01-01 00:00:00|  48|              null|                null|10773.360000000022|                  455|        48|Manhattan|        Clinton East| Yellow Zone|\n",
      "|2020-01-01 00:00:00|  49|            266.76|                  14|185.65000000000003|                   10|        49| Brooklyn|        Clinton Hill|   Boro Zone|\n",
      "|2020-01-01 00:00:00|  55|            129.29|                   4|              null|                 null|        55| Brooklyn|        Coney Island|   Boro Zone|\n",
      "|2020-01-01 00:00:00|  65|199.48999999999998|                  10| 409.3500000000001|                   19|        65| Brooklyn|Downtown Brooklyn...|   Boro Zone|\n",
      "|2020-01-01 00:00:00|  68|              null|                null| 7825.070000000014|                  396|        68|Manhattan|        East Chelsea| Yellow Zone|\n",
      "|2020-01-01 00:00:00|  71|              23.8|                   1|              null|                 null|        71| Brooklyn|East Flatbush/Far...|   Boro Zone|\n",
      "|2020-01-01 00:00:00|  74|317.09000000000003|                  24| 586.2100000000003|                   47|        74|Manhattan|   East Harlem North|   Boro Zone|\n",
      "|2020-01-01 00:00:00|  76|            143.78|                   4|             35.51|                    2|        76| Brooklyn|       East New York|   Boro Zone|\n",
      "|2020-01-01 00:00:00|  82| 305.1200000000002|                  28|              29.8|                    1|        82|   Queens|            Elmhurst|   Boro Zone|\n",
      "|2020-01-01 00:00:00|  88|              null|                null| 823.8000000000002|                   36|        88|Manhattan|Financial Distric...| Yellow Zone|\n",
      "+-------------------+----+------------------+--------------------+------------------+---------------------+----------+---------+--------------------+------------+\n",
      "only showing top 20 rows\n",
      "\n"
     ]
    }
   ],
   "source": [
    "df_result.show()"
   ]
  }
 ],
 "metadata": {
  "kernelspec": {
   "display_name": "Python 3 (ipykernel)",
   "language": "python",
   "name": "python3"
  },
  "language_info": {
   "codemirror_mode": {
    "name": "ipython",
    "version": 3
   },
   "file_extension": ".py",
   "mimetype": "text/x-python",
   "name": "python",
   "nbconvert_exporter": "python",
   "pygments_lexer": "ipython3",
   "version": "3.9.13"
  }
 },
 "nbformat": 4,
 "nbformat_minor": 5
}
